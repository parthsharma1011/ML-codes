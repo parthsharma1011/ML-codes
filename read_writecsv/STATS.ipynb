{
 "cells": [
  {
   "cell_type": "code",
   "execution_count": 61,
   "metadata": {},
   "outputs": [
    {
     "data": {
      "text/plain": [
       "5.0"
      ]
     },
     "execution_count": 61,
     "metadata": {},
     "output_type": "execute_result"
    }
   ],
   "source": [
    "#to print mean of values\n",
    "def mean(values):\n",
    "    return float(sum(values)/len(values))\n",
    "mean([10,6,4,4,6,4,1])"
   ]
  },
  {
   "cell_type": "code",
   "execution_count": 5,
   "metadata": {},
   "outputs": [
    {
     "name": "stdout",
     "output_type": "stream",
     "text": [
      "2.5\n"
     ]
    }
   ],
   "source": [
    "import numpy as np \n",
    "\n",
    "x = [1,2,3,4]\n",
    "print(np.mean(x))"
   ]
  },
  {
   "cell_type": "code",
   "execution_count": 89,
   "metadata": {},
   "outputs": [
    {
     "data": {
      "text/plain": [
       "8"
      ]
     },
     "execution_count": 89,
     "metadata": {},
     "output_type": "execute_result"
    }
   ],
   "source": [
    "#median of a number\n",
    "def median(arr):\n",
    "    sarr = sorted(arr)\n",
    "    if len(sarr)%2==1:\n",
    "        mid = ((len(sarr)+1)//2)-1\n",
    "        return sarr[mid]\n",
    "    elif len(sarr)%2==0:\n",
    "        mid = ((len(sarr)+1)//2)-1\n",
    "        x = sarr[mid]+sarr[mid+1]\n",
    "        y=x/2\n",
    "        return y\n",
    "    else:\n",
    "        return 0\n",
    "    \n",
    "median([8,5,8,4,8,12,13,5,9])"
   ]
  },
  {
   "cell_type": "code",
   "execution_count": 163,
   "metadata": {},
   "outputs": [
    {
     "data": {
      "text/plain": [
       "2"
      ]
     },
     "execution_count": 163,
     "metadata": {},
     "output_type": "execute_result"
    }
   ],
   "source": [
    "from itertools import groupby\n",
    "def mode(arr):\n",
    "    def last(n): return n[-1]\n",
    "    counter = Counter(arr)\n",
    "    x=counter.items()\n",
    "    max_elem = max(x,key=last)\n",
    "    return max_elem[0]\n",
    "\n",
    "mode([1,2,2,2,3,3])"
   ]
  },
  {
   "cell_type": "markdown",
   "metadata": {},
   "source": [
    "## So, when is the skewness too much?\n",
    "## The rule of thumb seems to be:\n",
    "## If the skewness is between -0.5 and 0.5, the data are fairly symmetrical.\n",
    "## If the skewness is between -1 and -0.5(negatively skewed) or between 0.5 and 1(positively skewed), the data are moderately skewed.\n",
    "## If the skewness is less than -1(negatively skewed) or greater than 1(positively skewed), the data are highly skewed."
   ]
  },
  {
   "cell_type": "code",
   "execution_count": 2,
   "metadata": {
    "scrolled": true
   },
   "outputs": [
    {
     "name": "stdout",
     "output_type": "stream",
     "text": [
      "mean :  -0.010204275904325067\n",
      "var  :  0.9656434773045453\n",
      "skew :  -0.0033055257063200724\n",
      "kurt :  0.03371472795241548\n"
     ]
    },
    {
     "data": {
      "image/png": "[encoded data removed]",
      "text/plain": [
       "<Figure size 432x288 with 1 Axes>"
      ]
     },
     "metadata": {},
     "output_type": "display_data"
    }
   ],
   "source": [
    "#skeweness and normal distribution\n",
    "%matplotlib inline\n",
    "import numpy as np\n",
    "import pandas as pd\n",
    "from scipy.stats import kurtosis\n",
    "from scipy.stats import skew\n",
    "\n",
    "import matplotlib.pyplot as plt\n",
    "\n",
    "plt.style.use('ggplot')\n",
    "\n",
    "data = np.random.normal(0, 1, 10000)\n",
    "np.var(data)\n",
    "\n",
    "plt.hist(data, bins=60)\n",
    "\n",
    "print(\"mean : \", np.mean(data))\n",
    "print(\"var  : \", np.var(data))\n",
    "print(\"skew : \",skew(data))\n",
    "print(\"kurt : \",kurtosis(data))\n"
   ]
  },
  {
   "cell_type": "markdown",
   "metadata": {},
   "source": [
    "## About kurtosis"
   ]
  },
  {
   "attachments": {
    "1_Nqu07THa7APRTOF7kaVr5Q.jpeg": {
     "image/jpeg": "[encoded data removed]"
    }
   },
   "cell_type": "markdown",
   "metadata": {},
   "source": [
    "![1_Nqu07THa7APRTOF7kaVr5Q.jpeg](attachment:1_Nqu07THa7APRTOF7kaVr5Q.jpeg)"
   ]
  },
  {
   "cell_type": "markdown",
   "metadata": {},
   "source": [
    "## Mesokurtic: This distribution has kurtosis statistic similar to that of the normal distribution. It means that the extreme values of the distribution are similar to that of a normal distribution characteristic. This definition is used so that the standard normal distribution has a kurtosis of three.\n",
    "## Leptokurtic (Kurtosis > 3): Distribution is longer, tails are fatter. Peak is higher and sharper than Mesokurtic, which means that data are heavy-tailed or profusion of outliers. \n",
    "## Outliers stretch the horizontal axis of the histogram graph, which makes the bulk of the data appear in a narrow (“skinny”) vertical range, thereby giving the “skinniness” of a leptokurtic distribution.\n",
    "## Platykurtic: (Kurtosis < 3): Distribution is shorter, tails are thinner than the normal distribution. The peak is lower and broader than Mesokurtic, which means that data are light-tailed or lack of outliers.\n",
    "## The reason for this is because the extreme values are less than that of the normal distribution."
   ]
  },
  {
   "cell_type": "code",
   "execution_count": null,
   "metadata": {},
   "outputs": [],
   "source": []
  }
 ],
 "metadata": {
  "kernelspec": {
   "display_name": "Python 3",
   "language": "python",
   "name": "python3"
  },
  "language_info": {
   "codemirror_mode": {
    "name": "ipython",
    "version": 3
   },
   "file_extension": ".py",
   "mimetype": "text/x-python",
   "name": "python",
   "nbconvert_exporter": "python",
   "pygments_lexer": "ipython3",
   "version": "3.6.8"
  }
 },
 "nbformat": 4,
 "nbformat_minor": 2
}
